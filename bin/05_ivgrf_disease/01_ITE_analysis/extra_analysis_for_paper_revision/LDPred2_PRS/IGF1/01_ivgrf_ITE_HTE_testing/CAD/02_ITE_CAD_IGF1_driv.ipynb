{
 "cells": [
  {
   "cell_type": "code",
   "execution_count": 7,
   "metadata": {},
   "outputs": [],
   "source": [
    "import pandas as pd\n",
    "import numpy as np\n",
    "import pickle\n"
   ]
  },
  {
   "cell_type": "code",
   "execution_count": 8,
   "metadata": {},
   "outputs": [],
   "source": [
    "import shap"
   ]
  },
  {
   "cell_type": "code",
   "execution_count": 9,
   "metadata": {},
   "outputs": [
    {
     "name": "stdout",
     "output_type": "stream",
     "text": [
      "Finished calculating SHAP value on continuous W model3.\n"
     ]
    }
   ],
   "source": [
    "# f = open(\"/mnt/md0/yujia/project/2023-07-20-individual_MR/res/02_ITE_analysis/01_table/IGF1/CAD/03_variable_importance/driv_binaryW_continuousZ_shap_model3.pkl\", \"rb\")\n",
    "# bbb = pickle.load(f)\n",
    "# f.close()\n",
    "\n",
    "# shap_pd_binaryW_model3 = pd.DataFrame(bbb['CAD']['30770-0.0_1'].values)\n",
    "# shap_pd_binaryW_model3.columns = bbb['CAD']['30770-0.0_1'].feature_names\n",
    "# value_pd_binaryW_model3 = pd.DataFrame(bbb['CAD']['30770-0.0_1'].data)\n",
    "# value_pd_binaryW_model3.columns = bbb['CAD']['30770-0.0_1'].feature_names\n",
    "# shap_pd_binaryW_model3.to_csv(\"/mnt/md0/yujia/project/2023-07-20-individual_MR/res/02_ITE_analysis/01_table/IGF1/CAD/03_variable_importance/driv_binaryW_shap_model3.csv.gz\", index=False)\n",
    "# value_pd_binaryW_model3.to_csv(\"/mnt/md0/yujia/project/2023-07-20-individual_MR/res/02_ITE_analysis/01_table/IGF1/CAD/03_variable_importance/driv_binaryW_value_model3.csv.gz\", index=False)\n",
    "# print(\"Finished calculating SHAP value on binary W model3.\")\n",
    "\n",
    "f = open(\"/mnt/md0/yujia/project/2023-07-20-individual_MR/res/02_ITE_analysis/01_table/IGF1/CAD/03_variable_importance/driv_continuousW_shap_model3.pkl\", \"rb\")\n",
    "aaa = pickle.load(f)\n",
    "f.close()\n",
    "\n",
    "shap_pd_continuousW_model3 = pd.DataFrame(aaa['CAD']['30770-0.0'].values)\n",
    "shap_pd_continuousW_model3.columns = aaa['CAD']['30770-0.0'].feature_names\n",
    "value_pd_continuousW_model3 = pd.DataFrame(aaa['CAD']['30770-0.0'].data)\n",
    "value_pd_continuousW_model3.columns = aaa['CAD']['30770-0.0'].feature_names\n",
    "shap_pd_continuousW_model3.to_csv(\"/mnt/md0/yujia/project/2023-07-20-individual_MR/res/02_ITE_analysis/01_table/IGF1/CAD/03_variable_importance/driv_continuousW_shap_model3.csv.gz\", index=False)\n",
    "value_pd_continuousW_model3.to_csv(\"/mnt/md0/yujia/project/2023-07-20-individual_MR/res/02_ITE_analysis/01_table/IGF1/CAD/03_variable_importance/driv_continuousW_value_model3.csv.gz\", index=False)\n",
    "print(\"Finished calculating SHAP value on continuous W model3.\")"
   ]
  }
 ],
 "metadata": {
  "kernelspec": {
   "display_name": "mr",
   "language": "python",
   "name": "python3"
  },
  "language_info": {
   "codemirror_mode": {
    "name": "ipython",
    "version": 3
   },
   "file_extension": ".py",
   "mimetype": "text/x-python",
   "name": "python",
   "nbconvert_exporter": "python",
   "pygments_lexer": "ipython3",
   "version": "3.10.9"
  }
 },
 "nbformat": 4,
 "nbformat_minor": 2
}
